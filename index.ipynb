{
 "cells": [
  {
   "cell_type": "markdown",
   "metadata": {},
   "source": [
    "# Machine Learning with Spark\n",
    "\n",
    "## Introduction\n",
    "\n",
    "You've now explored how to perform operations on Spark RDDs for simple MapReduce tasks. Luckily, there are far more advanced use cases for Spark, and many of them are found in the `ml` library, which we are going to explore in this lesson.\n",
    "\n",
    "\n",
    "## Objectives\n",
    "\n",
    "You will be able to: \n",
    "\n",
    "- Load and manipulate data using Spark DataFrames  \n",
    "- Define estimators and transformers in Spark ML \n",
    "- Create a Spark ML pipeline that transforms data and runs over a grid of hyperparameters \n",
    "\n",
    "\n",
    "\n",
    "## A Tale of Two Libraries\n",
    "\n",
    "If you look at the PySpark documentation, you'll notice that there are two different libraries for machine learning, [mllib](https://spark.apache.org/docs/latest/api/python/pyspark.mllib.html) and [ml](https://spark.apache.org/docs/latest/api/python/pyspark.ml.html). These libraries are extremely similar to one another, the only difference being that the `mllib` library is built upon the RDDs you just practiced using; whereas, the `ml` library is built on higher level Spark DataFrames, which has methods and attributes similar to pandas. Spark has stated that in the future, it is going to devote more effort to the `ml` library and that `mllib` will become deprecated. It's important to note that these libraries are much younger than pandas and scikit-learn and there are not as many features present in either.\n",
    "\n",
    "## Spark DataFrames\n",
    "\n",
    "In the previous lessons, you were introduced to SparkContext as the primary way to connect with a Spark Application. Here, we will be using SparkSession, which is from the [sql](https://spark.apache.org/docs/latest/api/python/pyspark.sql.html) component of PySpark. The SparkSession acts the same way as SparkContext; it is a bridge between Python and the Spark Application. It's just built on top of the Spark SQL API, a higher-level API than RDDs. In fact, a SparkContext object is spun up around which the SparkSession object is wrapped. Let's go through the process of manipulating some data here. For this example, we're going to be using the [Forest Fire dataset](https://archive.ics.uci.edu/ml/datasets/Forest+Fires) from UCI, which contains data about the area burned by wildfires in the Northeast region of Portugal in relation to numerous other factors.\n",
    "\n",
    "To begin with, let's create a SparkSession so that we can spin up our spark application. "
   ]
  },
  {
   "cell_type": "code",
   "execution_count": 1,
   "metadata": {},
   "outputs": [],
   "source": [
    "# importing the necessary libraries\n",
    "from pyspark import SparkContext\n",
    "from pyspark.sql import SparkSession\n",
    "sc = SparkContext('local[*]')\n",
    "spark = SparkSession(sc)"
   ]
  },
  {
   "cell_type": "markdown",
   "metadata": {},
   "source": [
    "To create a SparkSession: "
   ]
  },
  {
   "cell_type": "code",
   "execution_count": 2,
   "metadata": {},
   "outputs": [],
   "source": [
    "spark = SparkSession.builder.master('local').getOrCreate()"
   ]
  },
  {
   "cell_type": "markdown",
   "metadata": {},
   "source": [
    "Now, we'll load the data into a PySpark DataFrame: "
   ]
  },
  {
   "cell_type": "code",
   "execution_count": 3,
   "metadata": {},
   "outputs": [
    {
     "data": {
      "text/plain": [
       "pyspark.sql.dataframe.DataFrame"
      ]
     },
     "execution_count": 3,
     "metadata": {},
     "output_type": "execute_result"
    }
   ],
   "source": [
    "## reading in pyspark df\n",
    "spark_df = spark.read.csv('./forestfires.csv', header='true', inferSchema='true')\n",
    "\n",
    "## observing the datatype of df\n",
    "type(spark_df)"
   ]
  },
  {
   "cell_type": "markdown",
   "metadata": {},
   "source": [
    "You'll notice that some of the methods are extremely similar or the same as those found within Pandas."
   ]
  },
  {
   "cell_type": "code",
   "execution_count": 4,
   "metadata": {},
   "outputs": [
    {
     "data": {
      "text/plain": [
       "Row(X=7, Y=5, month='mar', day='fri', FFMC=86.2, DMC=26.2, DC=94.3, ISI=5.1, temp=8.2, RH=51, wind=6.7, rain=0.0, area=0.0)"
      ]
     },
     "execution_count": 4,
     "metadata": {},
     "output_type": "execute_result"
    }
   ],
   "source": [
    "spark_df.head()"
   ]
  },
  {
   "cell_type": "code",
   "execution_count": 5,
   "metadata": {},
   "outputs": [
    {
     "data": {
      "text/plain": [
       "['X',\n",
       " 'Y',\n",
       " 'month',\n",
       " 'day',\n",
       " 'FFMC',\n",
       " 'DMC',\n",
       " 'DC',\n",
       " 'ISI',\n",
       " 'temp',\n",
       " 'RH',\n",
       " 'wind',\n",
       " 'rain',\n",
       " 'area']"
      ]
     },
     "execution_count": 5,
     "metadata": {},
     "output_type": "execute_result"
    }
   ],
   "source": [
    "spark_df.columns"
   ]
  },
  {
   "cell_type": "markdown",
   "metadata": {},
   "source": [
    "Selecting multiple columns is similar as well: "
   ]
  },
  {
   "cell_type": "code",
   "execution_count": 6,
   "metadata": {},
   "outputs": [
    {
     "data": {
      "text/plain": [
       "DataFrame[month: string, day: string, rain: double]"
      ]
     },
     "execution_count": 6,
     "metadata": {},
     "output_type": "execute_result"
    }
   ],
   "source": [
    "spark_df[['month','day','rain']]"
   ]
  },
  {
   "cell_type": "markdown",
   "metadata": {},
   "source": [
    "But selecting one column is different. If you want to maintain the methods of a spark DataFrame, you should use the `.select()` method. If you want to just select the column, you can use the same method you would use in pandas (this is primarily what you would use if you're attempting to create a boolean mask). "
   ]
  },
  {
   "cell_type": "code",
   "execution_count": 7,
   "metadata": {
    "scrolled": true
   },
   "outputs": [],
   "source": [
    "d = spark_df.select('rain')"
   ]
  },
  {
   "cell_type": "code",
   "execution_count": 8,
   "metadata": {},
   "outputs": [
    {
     "data": {
      "text/plain": [
       "DataFrame[rain: double]"
      ]
     },
     "execution_count": 8,
     "metadata": {},
     "output_type": "execute_result"
    }
   ],
   "source": [
    "d"
   ]
  },
  {
   "cell_type": "code",
   "execution_count": 24,
   "metadata": {},
   "outputs": [
    {
     "name": "stdout",
     "output_type": "stream",
     "text": [
      "+----+\n",
      "|rain|\n",
      "+----+\n",
      "| 0.0|\n",
      "| 0.0|\n",
      "| 0.0|\n",
      "| 0.2|\n",
      "| 0.0|\n",
      "| 0.0|\n",
      "| 0.0|\n",
      "| 0.0|\n",
      "| 0.0|\n",
      "| 0.0|\n",
      "| 0.0|\n",
      "| 0.0|\n",
      "| 0.0|\n",
      "| 0.0|\n",
      "| 0.0|\n",
      "| 0.0|\n",
      "| 0.0|\n",
      "| 0.0|\n",
      "| 0.0|\n",
      "| 0.0|\n",
      "+----+\n",
      "only showing top 20 rows\n",
      "\n"
     ]
    }
   ],
   "source": [
    "d.show()"
   ]
  },
  {
   "cell_type": "code",
   "execution_count": 9,
   "metadata": {},
   "outputs": [
    {
     "data": {
      "text/plain": [
       "Column<b'rain'>"
      ]
     },
     "execution_count": 9,
     "metadata": {},
     "output_type": "execute_result"
    }
   ],
   "source": [
    "spark_df['rain']"
   ]
  },
  {
   "cell_type": "markdown",
   "metadata": {},
   "source": [
    "Let's take a look at all of our data types in this dataframe"
   ]
  },
  {
   "cell_type": "code",
   "execution_count": 10,
   "metadata": {},
   "outputs": [
    {
     "data": {
      "text/plain": [
       "[('X', 'int'),\n",
       " ('Y', 'int'),\n",
       " ('month', 'string'),\n",
       " ('day', 'string'),\n",
       " ('FFMC', 'double'),\n",
       " ('DMC', 'double'),\n",
       " ('DC', 'double'),\n",
       " ('ISI', 'double'),\n",
       " ('temp', 'double'),\n",
       " ('RH', 'int'),\n",
       " ('wind', 'double'),\n",
       " ('rain', 'double'),\n",
       " ('area', 'double')]"
      ]
     },
     "execution_count": 10,
     "metadata": {},
     "output_type": "execute_result"
    }
   ],
   "source": [
    "spark_df.dtypes"
   ]
  },
  {
   "cell_type": "markdown",
   "metadata": {},
   "source": [
    "## Aggregations with our DataFrame"
   ]
  },
  {
   "cell_type": "markdown",
   "metadata": {},
   "source": [
    "Let's investigate to see if there is any correlation between what month it is and the area of fire: "
   ]
  },
  {
   "cell_type": "code",
   "execution_count": 11,
   "metadata": {},
   "outputs": [
    {
     "data": {
      "text/plain": [
       "DataFrame[month: string, avg(area): double]"
      ]
     },
     "execution_count": 11,
     "metadata": {},
     "output_type": "execute_result"
    }
   ],
   "source": [
    "spark_df_months = spark_df.groupBy('month').agg({'area': 'mean'})\n",
    "spark_df_months"
   ]
  },
  {
   "cell_type": "code",
   "execution_count": 15,
   "metadata": {},
   "outputs": [
    {
     "name": "stdout",
     "output_type": "stream",
     "text": [
      "+-----+------------------+\n",
      "|month|         avg(area)|\n",
      "+-----+------------------+\n",
      "|  jan|               0.0|\n",
      "|  nov|               0.0|\n",
      "|  mar| 4.356666666666667|\n",
      "|  jun| 5.841176470588234|\n",
      "|  feb|             6.275|\n",
      "|  oct|             6.638|\n",
      "|  apr| 8.891111111111112|\n",
      "|  aug|12.489076086956521|\n",
      "|  dec|             13.33|\n",
      "|  jul|        14.3696875|\n",
      "|  sep|17.942616279069753|\n",
      "|  may|             19.24|\n",
      "+-----+------------------+\n",
      "\n"
     ]
    }
   ],
   "source": [
    "spark_df_months.sort('avg(area)').show()"
   ]
  },
  {
   "cell_type": "markdown",
   "metadata": {},
   "source": [
    "Notice how the grouped DataFrame is not returned when you call the aggregation method. Remember, this is still Spark! The transformations and actions are kept separate so that it is easier to manage large quantities of data. You can perform the transformation by calling `.collect()`: "
   ]
  },
  {
   "cell_type": "code",
   "execution_count": 16,
   "metadata": {},
   "outputs": [
    {
     "data": {
      "text/plain": [
       "[Row(month='jun', avg(area)=5.841176470588234),\n",
       " Row(month='aug', avg(area)=12.489076086956521),\n",
       " Row(month='may', avg(area)=19.24),\n",
       " Row(month='feb', avg(area)=6.275),\n",
       " Row(month='sep', avg(area)=17.942616279069753),\n",
       " Row(month='mar', avg(area)=4.356666666666667),\n",
       " Row(month='oct', avg(area)=6.638),\n",
       " Row(month='jul', avg(area)=14.3696875),\n",
       " Row(month='nov', avg(area)=0.0),\n",
       " Row(month='apr', avg(area)=8.891111111111112),\n",
       " Row(month='dec', avg(area)=13.33),\n",
       " Row(month='jan', avg(area)=0.0)]"
      ]
     },
     "execution_count": 16,
     "metadata": {},
     "output_type": "execute_result"
    }
   ],
   "source": [
    "spark_df_months.collect()"
   ]
  },
  {
   "cell_type": "markdown",
   "metadata": {},
   "source": [
    "As you can see, there seem to be larger area fires during what would be considered the summer months in Portugal. On your own, practice more aggregations and manipulations that you might be able to perform on this dataset. "
   ]
  },
  {
   "cell_type": "code",
   "execution_count": 19,
   "metadata": {},
   "outputs": [],
   "source": [
    "spark_df_rain = spark_df.groupBy('day').agg({'rain': 'mean'})"
   ]
  },
  {
   "cell_type": "code",
   "execution_count": 20,
   "metadata": {},
   "outputs": [
    {
     "name": "stdout",
     "output_type": "stream",
     "text": [
      "+---+--------------------+\n",
      "|day|           avg(rain)|\n",
      "+---+--------------------+\n",
      "|fri|0.018823529411764704|\n",
      "|thu|                 0.0|\n",
      "|tue|             0.13125|\n",
      "|sat|                 0.0|\n",
      "|wed|0.003703703703703704|\n",
      "|mon|                 0.0|\n",
      "|sun|0.010526315789473684|\n",
      "+---+--------------------+\n",
      "\n"
     ]
    }
   ],
   "source": [
    "spark_df_rain.show()"
   ]
  },
  {
   "cell_type": "markdown",
   "metadata": {},
   "source": [
    "## Boolean Masking \n",
    "\n",
    "Boolean masking also works with PySpark DataFrames just like Pandas DataFrames, the only difference being that the `.filter()` method is used in PySpark. To try this out, let's compare the amount of fire in those areas with absolutely no rain to those areas that had rain."
   ]
  },
  {
   "cell_type": "code",
   "execution_count": 21,
   "metadata": {},
   "outputs": [],
   "source": [
    "no_rain = spark_df.filter(spark_df['rain'] == 0.0)\n",
    "some_rain = spark_df.filter(spark_df['rain'] > 0.0)"
   ]
  },
  {
   "cell_type": "code",
   "execution_count": 22,
   "metadata": {},
   "outputs": [
    {
     "name": "stdout",
     "output_type": "stream",
     "text": [
      "+---+---+-----+---+----+----+-----+----+----+---+----+----+----+\n",
      "|  X|  Y|month|day|FFMC| DMC|   DC| ISI|temp| RH|wind|rain|area|\n",
      "+---+---+-----+---+----+----+-----+----+----+---+----+----+----+\n",
      "|  7|  5|  mar|fri|86.2|26.2| 94.3| 5.1| 8.2| 51| 6.7| 0.0| 0.0|\n",
      "|  7|  4|  oct|tue|90.6|35.4|669.1| 6.7|18.0| 33| 0.9| 0.0| 0.0|\n",
      "|  7|  4|  oct|sat|90.6|43.7|686.9| 6.7|14.6| 33| 1.3| 0.0| 0.0|\n",
      "|  8|  6|  mar|sun|89.3|51.3|102.2| 9.6|11.4| 99| 1.8| 0.0| 0.0|\n",
      "|  8|  6|  aug|sun|92.3|85.3|488.0|14.7|22.2| 29| 5.4| 0.0| 0.0|\n",
      "+---+---+-----+---+----+----+-----+----+----+---+----+----+----+\n",
      "only showing top 5 rows\n",
      "\n"
     ]
    }
   ],
   "source": [
    "no_rain.show(5)"
   ]
  },
  {
   "cell_type": "code",
   "execution_count": 23,
   "metadata": {},
   "outputs": [
    {
     "name": "stdout",
     "output_type": "stream",
     "text": [
      "+---+---+-----+---+----+-----+-----+----+----+---+----+----+-----+\n",
      "|  X|  Y|month|day|FFMC|  DMC|   DC| ISI|temp| RH|wind|rain| area|\n",
      "+---+---+-----+---+----+-----+-----+----+----+---+----+----+-----+\n",
      "|  8|  6|  mar|fri|91.7| 33.3| 77.5| 9.0| 8.3| 97| 4.0| 0.2|  0.0|\n",
      "|  7|  4|  aug|sun|91.8|175.1|700.7|13.8|21.9| 73| 7.6| 1.0|  0.0|\n",
      "|  7|  6|  jul|wed|91.2|183.1|437.7|12.5|12.6| 90| 7.6| 0.2|  0.0|\n",
      "|  7|  5|  aug|tue|96.1|181.1|671.2|14.3|27.3| 63| 4.9| 6.4|10.82|\n",
      "|  8|  6|  aug|tue|96.1|181.1|671.2|14.3|21.6| 65| 4.9| 0.8|  0.0|\n",
      "|  7|  5|  aug|tue|96.1|181.1|671.2|14.3|21.6| 65| 4.9| 0.8|  0.0|\n",
      "|  4|  4|  aug|tue|96.1|181.1|671.2|14.3|20.7| 69| 4.9| 0.4|  0.0|\n",
      "|  5|  4|  aug|fri|91.0|166.9|752.6| 7.1|21.1| 71| 7.6| 1.4| 2.17|\n",
      "+---+---+-----+---+----+-----+-----+----+----+---+----+----+-----+\n",
      "\n"
     ]
    }
   ],
   "source": [
    "some_rain.show()"
   ]
  },
  {
   "cell_type": "markdown",
   "metadata": {},
   "source": [
    "Now, to perform calculations to find the mean of a column, we'll have to import functions from `pyspark.sql`. As always, to read more about them, check out the [documentation](https://spark.apache.org/docs/latest/api/python/pyspark.sql.html#module-pyspark.sql.functions)."
   ]
  },
  {
   "cell_type": "code",
   "execution_count": 25,
   "metadata": {},
   "outputs": [
    {
     "name": "stdout",
     "output_type": "stream",
     "text": [
      "+------------------+\n",
      "|         avg(area)|\n",
      "+------------------+\n",
      "|13.023693516699408|\n",
      "+------------------+\n",
      "\n",
      "no rain fire area:  None \n",
      "\n",
      "+---------+\n",
      "|avg(area)|\n",
      "+---------+\n",
      "|  1.62375|\n",
      "+---------+\n",
      "\n",
      "some rain fire area:  None \n",
      "\n"
     ]
    }
   ],
   "source": [
    "from pyspark.sql.functions import mean\n",
    "\n",
    "print('no rain fire area: ', no_rain.select(mean('area')).show(),'\\n')\n",
    "\n",
    "print('some rain fire area: ', some_rain.select(mean('area')).show(),'\\n')"
   ]
  },
  {
   "cell_type": "markdown",
   "metadata": {},
   "source": [
    "Yes there's definitely something there! Unsurprisingly, rain plays in a big factor in the spread of wildfire.\n",
    "\n",
    "Let's obtain data from only the summer months in Portugal (June, July, and August). We can also do the same for the winter months in Portugal (December, January, February)."
   ]
  },
  {
   "cell_type": "code",
   "execution_count": 26,
   "metadata": {},
   "outputs": [
    {
     "name": "stdout",
     "output_type": "stream",
     "text": [
      "+------------------+\n",
      "|         avg(area)|\n",
      "+------------------+\n",
      "|12.262317596566525|\n",
      "+------------------+\n",
      "\n",
      "summer months fire area None\n",
      "+-----------------+\n",
      "|        avg(area)|\n",
      "+-----------------+\n",
      "|7.918387096774193|\n",
      "+-----------------+\n",
      "\n",
      "winter months fire areas None\n"
     ]
    }
   ],
   "source": [
    "summer_months = spark_df.filter(spark_df['month'].isin(['jun','jul','aug']))\n",
    "winter_months = spark_df.filter(spark_df['month'].isin(['dec','jan','feb']))\n",
    "\n",
    "print('summer months fire area', summer_months.select(mean('area')).show())\n",
    "print('winter months fire areas', winter_months.select(mean('area')).show())"
   ]
  },
  {
   "cell_type": "markdown",
   "metadata": {},
   "source": [
    "## Machine Learning\n",
    "\n",
    "Now that we've performed some data manipulation and aggregation, lets get to the really cool stuff, machine learning! PySpark states that they've used scikit-learn as an inspiration for their implementation of a machine learning library. As a result, many of the methods and functionalities look similar, but there are some crucial distinctions. There are three main concepts found within the ML library:\n",
    "\n",
    "`Transformer`: An algorithm that transforms one PySpark DataFrame into another DataFrame. \n",
    "\n",
    "`Estimator`: An algorithm that can be fit onto a PySpark DataFrame that can then be used as a Transformer. \n",
    "\n",
    "`Pipeline`: A pipeline very similar to an `sklearn` pipeline that chains together different actions.\n",
    "\n",
    "The reasoning behind this separation of the fitting and transforming step is because Spark is lazily evaluated, so the 'fitting' of a model does not actually take place until the Transformation action is called. Let's examine what this actually looks like by performing a regression on the Forest Fire dataset. To start off with, we'll import the necessary libraries for our tasks."
   ]
  },
  {
   "cell_type": "code",
   "execution_count": 27,
   "metadata": {},
   "outputs": [],
   "source": [
    "from pyspark.ml.regression import RandomForestRegressor\n",
    "from pyspark.ml import feature\n",
    "from pyspark.ml.feature import StringIndexer, VectorAssembler, OneHotEncoderEstimator"
   ]
  },
  {
   "cell_type": "markdown",
   "metadata": {},
   "source": [
    "Looking at our data, one can see that all the categories are numerical except for day and month. We saw some correlation between the month and area burned in a fire, so we will include that in our model. The day of the week, however, is highly unlikely to have any effect on fire, so we will drop it from the DataFrame."
   ]
  },
  {
   "cell_type": "code",
   "execution_count": 28,
   "metadata": {},
   "outputs": [
    {
     "data": {
      "text/plain": [
       "Row(X=7, Y=5, month='mar', FFMC=86.2, DMC=26.2, DC=94.3, ISI=5.1, temp=8.2, RH=51, wind=6.7, rain=0.0, area=0.0)"
      ]
     },
     "execution_count": 28,
     "metadata": {},
     "output_type": "execute_result"
    }
   ],
   "source": [
    "fire_df = spark_df.drop('day')\n",
    "fire_df.head()"
   ]
  },
  {
   "cell_type": "code",
   "execution_count": 30,
   "metadata": {},
   "outputs": [
    {
     "name": "stdout",
     "output_type": "stream",
     "text": [
      "+---+---+-----+----+----+-----+---+----+---+----+----+----+\n",
      "|  X|  Y|month|FFMC| DMC|   DC|ISI|temp| RH|wind|rain|area|\n",
      "+---+---+-----+----+----+-----+---+----+---+----+----+----+\n",
      "|  7|  5|  mar|86.2|26.2| 94.3|5.1| 8.2| 51| 6.7| 0.0| 0.0|\n",
      "|  7|  4|  oct|90.6|35.4|669.1|6.7|18.0| 33| 0.9| 0.0| 0.0|\n",
      "|  7|  4|  oct|90.6|43.7|686.9|6.7|14.6| 33| 1.3| 0.0| 0.0|\n",
      "|  8|  6|  mar|91.7|33.3| 77.5|9.0| 8.3| 97| 4.0| 0.2| 0.0|\n",
      "|  8|  6|  mar|89.3|51.3|102.2|9.6|11.4| 99| 1.8| 0.0| 0.0|\n",
      "+---+---+-----+----+----+-----+---+----+---+----+----+----+\n",
      "only showing top 5 rows\n",
      "\n"
     ]
    }
   ],
   "source": [
    "fire_df.show(5)"
   ]
  },
  {
   "cell_type": "markdown",
   "metadata": {},
   "source": [
    "In order for us to run our model, we need to turn the months variable into a dummy variable. In `ml` this is a 2-step process that first requires turning the categorical variable into a numerical index (`StringIndexer`). Only after the variable is an integer can PySpark create dummy variable columns related to each category (`OneHotEncoderEstimator`). Your key parameters when using these `ml` estimators are: `inputCol` (the column you want to change) and `outputCol` (where you will store the changed column). Here it is in action: "
   ]
  },
  {
   "cell_type": "code",
   "execution_count": 31,
   "metadata": {},
   "outputs": [],
   "source": [
    "si = StringIndexer(inputCol='month', outputCol='month_num')\n",
    "model = si.fit(fire_df)\n",
    "new_df = model.transform(fire_df)"
   ]
  },
  {
   "cell_type": "code",
   "execution_count": 32,
   "metadata": {},
   "outputs": [
    {
     "name": "stdout",
     "output_type": "stream",
     "text": [
      "+---+---+-----+----+-----+-----+----+----+---+----+----+----+---------+\n",
      "|  X|  Y|month|FFMC|  DMC|   DC| ISI|temp| RH|wind|rain|area|month_num|\n",
      "+---+---+-----+----+-----+-----+----+----+---+----+----+----+---------+\n",
      "|  7|  5|  mar|86.2| 26.2| 94.3| 5.1| 8.2| 51| 6.7| 0.0| 0.0|      2.0|\n",
      "|  7|  4|  oct|90.6| 35.4|669.1| 6.7|18.0| 33| 0.9| 0.0| 0.0|      6.0|\n",
      "|  7|  4|  oct|90.6| 43.7|686.9| 6.7|14.6| 33| 1.3| 0.0| 0.0|      6.0|\n",
      "|  8|  6|  mar|91.7| 33.3| 77.5| 9.0| 8.3| 97| 4.0| 0.2| 0.0|      2.0|\n",
      "|  8|  6|  mar|89.3| 51.3|102.2| 9.6|11.4| 99| 1.8| 0.0| 0.0|      2.0|\n",
      "|  8|  6|  aug|92.3| 85.3|488.0|14.7|22.2| 29| 5.4| 0.0| 0.0|      0.0|\n",
      "|  8|  6|  aug|92.3| 88.9|495.6| 8.5|24.1| 27| 3.1| 0.0| 0.0|      0.0|\n",
      "|  8|  6|  aug|91.5|145.4|608.2|10.7| 8.0| 86| 2.2| 0.0| 0.0|      0.0|\n",
      "|  8|  6|  sep|91.0|129.5|692.6| 7.0|13.1| 63| 5.4| 0.0| 0.0|      1.0|\n",
      "|  7|  5|  sep|92.5| 88.0|698.6| 7.1|22.8| 40| 4.0| 0.0| 0.0|      1.0|\n",
      "|  7|  5|  sep|92.5| 88.0|698.6| 7.1|17.8| 51| 7.2| 0.0| 0.0|      1.0|\n",
      "|  7|  5|  sep|92.8| 73.2|713.0|22.6|19.3| 38| 4.0| 0.0| 0.0|      1.0|\n",
      "|  6|  5|  aug|63.5| 70.8|665.3| 0.8|17.0| 72| 6.7| 0.0| 0.0|      0.0|\n",
      "|  6|  5|  sep|90.9|126.5|686.5| 7.0|21.3| 42| 2.2| 0.0| 0.0|      1.0|\n",
      "|  6|  5|  sep|92.9|133.3|699.6| 9.2|26.4| 21| 4.5| 0.0| 0.0|      1.0|\n",
      "|  6|  5|  sep|93.3|141.2|713.9|13.9|22.9| 44| 5.4| 0.0| 0.0|      1.0|\n",
      "|  5|  5|  mar|91.7| 35.8| 80.8| 7.8|15.1| 27| 5.4| 0.0| 0.0|      2.0|\n",
      "|  8|  5|  oct|84.9| 32.8|664.2| 3.0|16.7| 47| 4.9| 0.0| 0.0|      6.0|\n",
      "|  6|  4|  mar|89.2| 27.9| 70.8| 6.3|15.9| 35| 4.0| 0.0| 0.0|      2.0|\n",
      "|  6|  4|  apr|86.3| 27.4| 97.1| 5.1| 9.3| 44| 4.5| 0.0| 0.0|      7.0|\n",
      "+---+---+-----+----+-----+-----+----+----+---+----+----+----+---------+\n",
      "only showing top 20 rows\n",
      "\n"
     ]
    }
   ],
   "source": [
    "new_df.show()"
   ]
  },
  {
   "cell_type": "markdown",
   "metadata": {},
   "source": [
    "Note the small, but critical distinction between `sklearn`'s implementation of a transformer and PySpark's implementation. `sklearn` is more object oriented and Spark is more functional oriented."
   ]
  },
  {
   "cell_type": "code",
   "execution_count": 33,
   "metadata": {},
   "outputs": [
    {
     "data": {
      "text/plain": [
       "pyspark.ml.feature.StringIndexer"
      ]
     },
     "execution_count": 33,
     "metadata": {},
     "output_type": "execute_result"
    }
   ],
   "source": [
    "## this is an estimator (an untrained transformer)\n",
    "type(si)"
   ]
  },
  {
   "cell_type": "code",
   "execution_count": 35,
   "metadata": {},
   "outputs": [
    {
     "data": {
      "text/plain": [
       "pyspark.ml.feature.StringIndexerModel"
      ]
     },
     "execution_count": 35,
     "metadata": {},
     "output_type": "execute_result"
    }
   ],
   "source": [
    "## this is a transformer (a trained transformer)\n",
    "type(model)"
   ]
  },
  {
   "cell_type": "code",
   "execution_count": 40,
   "metadata": {},
   "outputs": [
    {
     "data": {
      "text/plain": [
       "['aug',\n",
       " 'sep',\n",
       " 'mar',\n",
       " 'jul',\n",
       " 'feb',\n",
       " 'jun',\n",
       " 'oct',\n",
       " 'apr',\n",
       " 'dec',\n",
       " 'jan',\n",
       " 'may',\n",
       " 'nov']"
      ]
     },
     "execution_count": 40,
     "metadata": {},
     "output_type": "execute_result"
    }
   ],
   "source": [
    "model.labels"
   ]
  },
  {
   "cell_type": "code",
   "execution_count": 37,
   "metadata": {},
   "outputs": [
    {
     "data": {
      "text/plain": [
       "[Row(X=7, Y=5, month='mar', FFMC=86.2, DMC=26.2, DC=94.3, ISI=5.1, temp=8.2, RH=51, wind=6.7, rain=0.0, area=0.0, month_num=2.0),\n",
       " Row(X=7, Y=4, month='oct', FFMC=90.6, DMC=35.4, DC=669.1, ISI=6.7, temp=18.0, RH=33, wind=0.9, rain=0.0, area=0.0, month_num=6.0),\n",
       " Row(X=7, Y=4, month='oct', FFMC=90.6, DMC=43.7, DC=686.9, ISI=6.7, temp=14.6, RH=33, wind=1.3, rain=0.0, area=0.0, month_num=6.0),\n",
       " Row(X=8, Y=6, month='mar', FFMC=91.7, DMC=33.3, DC=77.5, ISI=9.0, temp=8.3, RH=97, wind=4.0, rain=0.2, area=0.0, month_num=2.0)]"
      ]
     },
     "execution_count": 37,
     "metadata": {},
     "output_type": "execute_result"
    }
   ],
   "source": [
    "new_df.head(4)"
   ]
  },
  {
   "cell_type": "markdown",
   "metadata": {},
   "source": [
    "As you can see, we have created a new column called `'month_num'` that represents the month by a number. Now that we have performed this step, we can use Spark's version of `OneHotEncoder()` - `OneHotEncoderEstimator()`. Let's make sure we have an accurate representation of the months."
   ]
  },
  {
   "cell_type": "code",
   "execution_count": 41,
   "metadata": {},
   "outputs": [
    {
     "data": {
      "text/plain": [
       "[Row(month_num=8.0),\n",
       " Row(month_num=0.0),\n",
       " Row(month_num=7.0),\n",
       " Row(month_num=1.0),\n",
       " Row(month_num=4.0),\n",
       " Row(month_num=11.0),\n",
       " Row(month_num=3.0),\n",
       " Row(month_num=2.0),\n",
       " Row(month_num=10.0),\n",
       " Row(month_num=6.0),\n",
       " Row(month_num=5.0),\n",
       " Row(month_num=9.0)]"
      ]
     },
     "execution_count": 41,
     "metadata": {},
     "output_type": "execute_result"
    }
   ],
   "source": [
    "new_df.select('month_num').distinct().collect()"
   ]
  },
  {
   "cell_type": "code",
   "execution_count": 42,
   "metadata": {},
   "outputs": [
    {
     "data": {
      "text/plain": [
       "Row(X=7, Y=5, month='mar', FFMC=86.2, DMC=26.2, DC=94.3, ISI=5.1, temp=8.2, RH=51, wind=6.7, rain=0.0, area=0.0, month_num=2.0, month_vec=SparseVector(11, {2: 1.0}))"
      ]
     },
     "execution_count": 42,
     "metadata": {},
     "output_type": "execute_result"
    }
   ],
   "source": [
    "## fitting and transforming the OneHotEncoderEstimator\n",
    "ohe = feature.OneHotEncoderEstimator(inputCols=['month_num'], outputCols=['month_vec'], dropLast=True)\n",
    "one_hot_encoded = ohe.fit(new_df).transform(new_df)\n",
    "one_hot_encoded.head()"
   ]
  },
  {
   "cell_type": "code",
   "execution_count": 44,
   "metadata": {},
   "outputs": [
    {
     "name": "stdout",
     "output_type": "stream",
     "text": [
      "+---+---+-----+----+-----+-----+----+----+---+----+----+----+---------+--------------+\n",
      "|  X|  Y|month|FFMC|  DMC|   DC| ISI|temp| RH|wind|rain|area|month_num|     month_vec|\n",
      "+---+---+-----+----+-----+-----+----+----+---+----+----+----+---------+--------------+\n",
      "|  7|  5|  mar|86.2| 26.2| 94.3| 5.1| 8.2| 51| 6.7| 0.0| 0.0|      2.0|(11,[2],[1.0])|\n",
      "|  7|  4|  oct|90.6| 35.4|669.1| 6.7|18.0| 33| 0.9| 0.0| 0.0|      6.0|(11,[6],[1.0])|\n",
      "|  7|  4|  oct|90.6| 43.7|686.9| 6.7|14.6| 33| 1.3| 0.0| 0.0|      6.0|(11,[6],[1.0])|\n",
      "|  8|  6|  mar|91.7| 33.3| 77.5| 9.0| 8.3| 97| 4.0| 0.2| 0.0|      2.0|(11,[2],[1.0])|\n",
      "|  8|  6|  mar|89.3| 51.3|102.2| 9.6|11.4| 99| 1.8| 0.0| 0.0|      2.0|(11,[2],[1.0])|\n",
      "|  8|  6|  aug|92.3| 85.3|488.0|14.7|22.2| 29| 5.4| 0.0| 0.0|      0.0|(11,[0],[1.0])|\n",
      "|  8|  6|  aug|92.3| 88.9|495.6| 8.5|24.1| 27| 3.1| 0.0| 0.0|      0.0|(11,[0],[1.0])|\n",
      "|  8|  6|  aug|91.5|145.4|608.2|10.7| 8.0| 86| 2.2| 0.0| 0.0|      0.0|(11,[0],[1.0])|\n",
      "|  8|  6|  sep|91.0|129.5|692.6| 7.0|13.1| 63| 5.4| 0.0| 0.0|      1.0|(11,[1],[1.0])|\n",
      "|  7|  5|  sep|92.5| 88.0|698.6| 7.1|22.8| 40| 4.0| 0.0| 0.0|      1.0|(11,[1],[1.0])|\n",
      "|  7|  5|  sep|92.5| 88.0|698.6| 7.1|17.8| 51| 7.2| 0.0| 0.0|      1.0|(11,[1],[1.0])|\n",
      "|  7|  5|  sep|92.8| 73.2|713.0|22.6|19.3| 38| 4.0| 0.0| 0.0|      1.0|(11,[1],[1.0])|\n",
      "|  6|  5|  aug|63.5| 70.8|665.3| 0.8|17.0| 72| 6.7| 0.0| 0.0|      0.0|(11,[0],[1.0])|\n",
      "|  6|  5|  sep|90.9|126.5|686.5| 7.0|21.3| 42| 2.2| 0.0| 0.0|      1.0|(11,[1],[1.0])|\n",
      "|  6|  5|  sep|92.9|133.3|699.6| 9.2|26.4| 21| 4.5| 0.0| 0.0|      1.0|(11,[1],[1.0])|\n",
      "|  6|  5|  sep|93.3|141.2|713.9|13.9|22.9| 44| 5.4| 0.0| 0.0|      1.0|(11,[1],[1.0])|\n",
      "|  5|  5|  mar|91.7| 35.8| 80.8| 7.8|15.1| 27| 5.4| 0.0| 0.0|      2.0|(11,[2],[1.0])|\n",
      "|  8|  5|  oct|84.9| 32.8|664.2| 3.0|16.7| 47| 4.9| 0.0| 0.0|      6.0|(11,[6],[1.0])|\n",
      "|  6|  4|  mar|89.2| 27.9| 70.8| 6.3|15.9| 35| 4.0| 0.0| 0.0|      2.0|(11,[2],[1.0])|\n",
      "|  6|  4|  apr|86.3| 27.4| 97.1| 5.1| 9.3| 44| 4.5| 0.0| 0.0|      7.0|(11,[7],[1.0])|\n",
      "+---+---+-----+----+-----+-----+----+----+---+----+----+----+---------+--------------+\n",
      "only showing top 20 rows\n",
      "\n"
     ]
    }
   ],
   "source": [
    "one_hot_encoded.show()"
   ]
  },
  {
   "cell_type": "markdown",
   "metadata": {},
   "source": [
    "Great, we now have a OneHotEncoded sparse vector in the `'month_vec'` column! Because Spark is optimized for big data, sparse vectors are used rather than entirely new columns for dummy variables because it is more space efficient. You can see in this first row of the DataFrame:  \n",
    "\n",
    "`month_vec=SparseVector(11, {2: 1.0})` this indicates that we have a sparse vector of size 11 (because of the parameter `dropLast = True` in `OneHotEncoderEstimator()`) and this particular data point is the 2nd index of our month labels (march, based off the labels in the `model` StringEstimator transformer).  \n",
    "\n",
    "The final requirement for all machine learning models in PySpark is to put all of the features of your model into one sparse vector. This is once again for efficiency sake. Here, we are doing that with the `VectorAssembler()` estimator."
   ]
  },
  {
   "cell_type": "code",
   "execution_count": 45,
   "metadata": {},
   "outputs": [],
   "source": [
    "features = ['X',\n",
    " 'Y',\n",
    " 'FFMC',\n",
    " 'DMC',\n",
    " 'DC',\n",
    " 'ISI',\n",
    " 'temp',\n",
    " 'RH',\n",
    " 'wind',\n",
    " 'rain',\n",
    " 'month_vec']\n",
    "\n",
    "target = 'area'\n",
    "\n",
    "vector = VectorAssembler(inputCols=features, outputCol='features')\n",
    "vectorized_df = vector.transform(one_hot_encoded)"
   ]
  },
  {
   "cell_type": "code",
   "execution_count": 46,
   "metadata": {},
   "outputs": [
    {
     "data": {
      "text/plain": [
       "Row(X=7, Y=5, month='mar', FFMC=86.2, DMC=26.2, DC=94.3, ISI=5.1, temp=8.2, RH=51, wind=6.7, rain=0.0, area=0.0, month_num=2.0, month_vec=SparseVector(11, {2: 1.0}), features=SparseVector(21, {0: 7.0, 1: 5.0, 2: 86.2, 3: 26.2, 4: 94.3, 5: 5.1, 6: 8.2, 7: 51.0, 8: 6.7, 12: 1.0}))"
      ]
     },
     "execution_count": 46,
     "metadata": {},
     "output_type": "execute_result"
    }
   ],
   "source": [
    "vectorized_df.head()"
   ]
  },
  {
   "cell_type": "code",
   "execution_count": 47,
   "metadata": {},
   "outputs": [
    {
     "name": "stdout",
     "output_type": "stream",
     "text": [
      "+---+---+-----+----+----+-----+---+----+---+----+----+----+---------+--------------+--------------------+\n",
      "|  X|  Y|month|FFMC| DMC|   DC|ISI|temp| RH|wind|rain|area|month_num|     month_vec|            features|\n",
      "+---+---+-----+----+----+-----+---+----+---+----+----+----+---------+--------------+--------------------+\n",
      "|  7|  5|  mar|86.2|26.2| 94.3|5.1| 8.2| 51| 6.7| 0.0| 0.0|      2.0|(11,[2],[1.0])|(21,[0,1,2,3,4,5,...|\n",
      "|  7|  4|  oct|90.6|35.4|669.1|6.7|18.0| 33| 0.9| 0.0| 0.0|      6.0|(11,[6],[1.0])|(21,[0,1,2,3,4,5,...|\n",
      "|  7|  4|  oct|90.6|43.7|686.9|6.7|14.6| 33| 1.3| 0.0| 0.0|      6.0|(11,[6],[1.0])|(21,[0,1,2,3,4,5,...|\n",
      "|  8|  6|  mar|91.7|33.3| 77.5|9.0| 8.3| 97| 4.0| 0.2| 0.0|      2.0|(11,[2],[1.0])|(21,[0,1,2,3,4,5,...|\n",
      "|  8|  6|  mar|89.3|51.3|102.2|9.6|11.4| 99| 1.8| 0.0| 0.0|      2.0|(11,[2],[1.0])|(21,[0,1,2,3,4,5,...|\n",
      "+---+---+-----+----+----+-----+---+----+---+----+----+----+---------+--------------+--------------------+\n",
      "only showing top 5 rows\n",
      "\n"
     ]
    }
   ],
   "source": [
    "vectorized_df.show(5)"
   ]
  },
  {
   "cell_type": "code",
   "execution_count": 52,
   "metadata": {},
   "outputs": [
    {
     "name": "stdout",
     "output_type": "stream",
     "text": [
      "+--------------------+\n",
      "|            features|\n",
      "+--------------------+\n",
      "|(21,[0,1,2,3,4,5,...|\n",
      "+--------------------+\n",
      "only showing top 1 row\n",
      "\n"
     ]
    }
   ],
   "source": [
    "vectorized_df.select('features').show(1)"
   ]
  },
  {
   "cell_type": "markdown",
   "metadata": {},
   "source": [
    "Great! We now have our data in a format that seems acceptable for the last step. It's time for us to actually fit our model to data! Let's fit a Random Forest Regression model to our data. Although there are still a bunch of other features in the DataFrame, it doesn't matter for the machine learning model API. All that needs to be specified are the names of the features column and the label column. "
   ]
  },
  {
   "cell_type": "code",
   "execution_count": 53,
   "metadata": {},
   "outputs": [],
   "source": [
    "## instantiating and fitting the model\n",
    "rf_model = RandomForestRegressor(featuresCol='features', \n",
    "                                 labelCol='area', predictionCol='prediction').fit(vectorized_df)"
   ]
  },
  {
   "cell_type": "code",
   "execution_count": 54,
   "metadata": {},
   "outputs": [
    {
     "data": {
      "text/plain": [
       "SparseVector(21, {0: 0.1078, 1: 0.0738, 2: 0.1268, 3: 0.1302, 4: 0.0667, 5: 0.0809, 6: 0.1188, 7: 0.078, 8: 0.1735, 10: 0.0019, 11: 0.0345, 13: 0.0051, 14: 0.0, 15: 0.0, 16: 0.0001, 17: 0.0004, 20: 0.0013})"
      ]
     },
     "execution_count": 54,
     "metadata": {},
     "output_type": "execute_result"
    }
   ],
   "source": [
    "rf_model.featureImportances"
   ]
  },
  {
   "cell_type": "code",
   "execution_count": 55,
   "metadata": {},
   "outputs": [
    {
     "data": {
      "text/plain": [
       "[Row(area=0.0, prediction=7.034477831585538),\n",
       " Row(area=0.0, prediction=5.741407869028901),\n",
       " Row(area=0.0, prediction=5.899075598696159),\n",
       " Row(area=0.0, prediction=6.410605534328506),\n",
       " Row(area=0.0, prediction=5.987347138750447),\n",
       " Row(area=0.0, prediction=6.147514975840005),\n",
       " Row(area=0.0, prediction=4.846220517895806),\n",
       " Row(area=0.0, prediction=11.515385720211498),\n",
       " Row(area=0.0, prediction=10.57529604485081),\n",
       " Row(area=0.0, prediction=6.065056356539797)]"
      ]
     },
     "execution_count": 55,
     "metadata": {},
     "output_type": "execute_result"
    }
   ],
   "source": [
    "## generating predictions\n",
    "predictions = rf_model.transform(vectorized_df).select('area', 'prediction')\n",
    "predictions.head(10)"
   ]
  },
  {
   "cell_type": "code",
   "execution_count": 56,
   "metadata": {},
   "outputs": [
    {
     "name": "stdout",
     "output_type": "stream",
     "text": [
      "+----+------------------+\n",
      "|area|        prediction|\n",
      "+----+------------------+\n",
      "| 0.0| 7.034477831585538|\n",
      "| 0.0| 5.741407869028901|\n",
      "| 0.0| 5.899075598696159|\n",
      "| 0.0| 6.410605534328506|\n",
      "| 0.0| 5.987347138750447|\n",
      "| 0.0| 6.147514975840005|\n",
      "| 0.0| 4.846220517895806|\n",
      "| 0.0|11.515385720211498|\n",
      "| 0.0| 10.57529604485081|\n",
      "| 0.0| 6.065056356539797|\n",
      "+----+------------------+\n",
      "only showing top 10 rows\n",
      "\n"
     ]
    }
   ],
   "source": [
    "predictions.show(10)"
   ]
  },
  {
   "cell_type": "markdown",
   "metadata": {},
   "source": [
    "Now we can evaluate how well the model performed using `RegressionEvaluator`."
   ]
  },
  {
   "cell_type": "code",
   "execution_count": 57,
   "metadata": {},
   "outputs": [],
   "source": [
    "from pyspark.ml.evaluation import RegressionEvaluator\n",
    "evaluator = RegressionEvaluator(predictionCol='prediction', labelCol='area')"
   ]
  },
  {
   "cell_type": "code",
   "execution_count": 58,
   "metadata": {},
   "outputs": [
    {
     "data": {
      "text/plain": [
       "0.7071823469855036"
      ]
     },
     "execution_count": 58,
     "metadata": {},
     "output_type": "execute_result"
    }
   ],
   "source": [
    "## evaluating r^2\n",
    "evaluator.evaluate(predictions,{evaluator.metricName: 'r2'})"
   ]
  },
  {
   "cell_type": "code",
   "execution_count": 59,
   "metadata": {},
   "outputs": [
    {
     "data": {
      "text/plain": [
       "13.099804205576223"
      ]
     },
     "execution_count": 59,
     "metadata": {},
     "output_type": "execute_result"
    }
   ],
   "source": [
    "## evaluating mean absolute error\n",
    "evaluator.evaluate(predictions,{evaluator.metricName: 'mae'})"
   ]
  },
  {
   "cell_type": "markdown",
   "metadata": {},
   "source": [
    "## Putting it all in a Pipeline\n",
    "\n",
    "We just performed a whole lot of transformations to our data. Let's take a look at all the estimators we used to create this model:\n",
    "\n",
    "* `StringIndexer()` \n",
    "* `OneHotEnconderEstimator()` \n",
    "* `VectorAssembler()` \n",
    "* `RandomForestRegressor()` \n",
    "\n",
    "Once we've fit our model in the Pipeline, we're then going to want to evaluate it to determine how well it performs. We can do this with:\n",
    "\n",
    "* `RegressionEvaluator()` \n",
    "\n",
    "We can streamline all of these transformations to make it much more efficient by chaining them together in a pipeline. The Pipeline object expects a list of the estimators prior set to the parameter `stages`."
   ]
  },
  {
   "cell_type": "code",
   "execution_count": 60,
   "metadata": {},
   "outputs": [],
   "source": [
    "# importing relevant libraries\n",
    "from pyspark.ml.tuning import ParamGridBuilder, TrainValidationSplit, CrossValidator\n",
    "from pyspark.ml import Pipeline"
   ]
  },
  {
   "cell_type": "code",
   "execution_count": 61,
   "metadata": {},
   "outputs": [],
   "source": [
    "## instantiating all necessary estimator objects\n",
    "\n",
    "string_indexer = StringIndexer(inputCol='month', outputCol='month_num', handleInvalid='keep')\n",
    "one_hot_encoder = OneHotEncoderEstimator(inputCols=['month_num'], outputCols=['month_vec'], dropLast=True)\n",
    "vector_assember = VectorAssembler(inputCols=features, outputCol='features')\n",
    "random_forest = RandomForestRegressor(featuresCol='features', labelCol='area')\n",
    "stages = [string_indexer, one_hot_encoder, vector_assember, random_forest]\n",
    "\n",
    "# instantiating the pipeline with all them estimator objects\n",
    "pipeline = Pipeline(stages=stages)"
   ]
  },
  {
   "cell_type": "markdown",
   "metadata": {},
   "source": [
    "### Cross-validation \n",
    "\n",
    "You might have missed a critical step in the random forest regression above; we did not cross validate or perform a train/test split! Now we're going to fix that by performing cross-validation and also testing out multiple different combinations of parameters in PySpark's `GridSearch()` equivalent. To begin with, we will create a parameter grid that contains the different parameters we want to use in our model."
   ]
  },
  {
   "cell_type": "code",
   "execution_count": 64,
   "metadata": {},
   "outputs": [],
   "source": [
    "# creating parameter grid\n",
    "\n",
    "params = ParamGridBuilder().addGrid(random_forest.maxDepth, \n",
    "                                    [5, 10, 15]).addGrid(random_forest.numTrees, \n",
    "                                                         [20 ,50, 100]).build()"
   ]
  },
  {
   "cell_type": "markdown",
   "metadata": {},
   "source": [
    "Let's take a look at the params variable we just built."
   ]
  },
  {
   "cell_type": "code",
   "execution_count": 65,
   "metadata": {},
   "outputs": [
    {
     "name": "stdout",
     "output_type": "stream",
     "text": [
      "total combinations of parameters:  9\n"
     ]
    },
    {
     "data": {
      "text/plain": [
       "{Param(parent='RandomForestRegressor_8028ab5af607', name='maxDepth', doc='Maximum depth of the tree. (>= 0) E.g., depth 0 means 1 leaf node; depth 1 means 1 internal node + 2 leaf nodes.'): 5,\n",
       " Param(parent='RandomForestRegressor_8028ab5af607', name='numTrees', doc='Number of trees to train (>= 1).'): 20}"
      ]
     },
     "execution_count": 65,
     "metadata": {},
     "output_type": "execute_result"
    }
   ],
   "source": [
    "print('total combinations of parameters: ', len(params))\n",
    "\n",
    "params[0]"
   ]
  },
  {
   "cell_type": "markdown",
   "metadata": {},
   "source": [
    "Now it's time to combine all the steps we've created to work in a single line of code with the `CrossValidator()` estimator."
   ]
  },
  {
   "cell_type": "code",
   "execution_count": 66,
   "metadata": {},
   "outputs": [],
   "source": [
    "## instantiating the evaluator by which we will measure our model's performance\n",
    "reg_evaluator = RegressionEvaluator(predictionCol='prediction', labelCol='area', metricName = 'mae')\n",
    "\n",
    "## instantiating crossvalidator estimator\n",
    "cv = CrossValidator(estimator=pipeline, estimatorParamMaps=params, evaluator=reg_evaluator, parallelism=4)"
   ]
  },
  {
   "cell_type": "code",
   "execution_count": 67,
   "metadata": {},
   "outputs": [],
   "source": [
    "## fitting crossvalidator\n",
    "cross_validated_model = cv.fit(fire_df)"
   ]
  },
  {
   "cell_type": "code",
   "execution_count": 68,
   "metadata": {},
   "outputs": [
    {
     "data": {
      "text/plain": [
       "CrossValidatorModel_ab2e303bebc6"
      ]
     },
     "execution_count": 68,
     "metadata": {},
     "output_type": "execute_result"
    }
   ],
   "source": [
    "cross_validated_model"
   ]
  },
  {
   "cell_type": "markdown",
   "metadata": {},
   "source": [
    "Now, let's see how well the model performed! Let's take a look at the average performance for each one of our 9 models. It looks like the optimal performance is an MAE around 23. Note that this is worse than our original model, but that's because our original model had substantial data leakage. We didn't do a train-test split!"
   ]
  },
  {
   "cell_type": "code",
   "execution_count": 72,
   "metadata": {},
   "outputs": [
    {
     "data": {
      "text/plain": [
       "[21.546567885598343,\n",
       " 21.700783994333744,\n",
       " 21.71813240757526,\n",
       " 22.32852941832796,\n",
       " 22.460430571200067,\n",
       " 22.71186702248246,\n",
       " 22.786022559039647,\n",
       " 22.84838924554876,\n",
       " 22.97834940511436]"
      ]
     },
     "execution_count": 72,
     "metadata": {},
     "output_type": "execute_result"
    }
   ],
   "source": [
    "cross_validated_model.avgMetrics"
   ]
  },
  {
   "cell_type": "markdown",
   "metadata": {},
   "source": [
    "Now, let's take a look at the optimal parameters of our best performing model. The `cross_validated_model` variable is now saved as the best performing model from the grid search just performed. Let's look to see how well the predictions performed. As you can see, this dataset has a large number of areas of \"0.0\" burned. Perhaps, it would be better to investigate this problem as a classification task."
   ]
  },
  {
   "cell_type": "code",
   "execution_count": 73,
   "metadata": {},
   "outputs": [
    {
     "name": "stdout",
     "output_type": "stream",
     "text": [
      "+------------------+-------+\n",
      "|        prediction|   area|\n",
      "+------------------+-------+\n",
      "|  6.21638032027937|    0.0|\n",
      "| 5.689308392052814|    0.0|\n",
      "| 6.287278576093263|    0.0|\n",
      "|7.2303391348948916|    0.0|\n",
      "| 4.893834494984671|    0.0|\n",
      "|7.2776916492575365|    0.0|\n",
      "| 6.405596897636968|    0.0|\n",
      "| 7.578126198825025|    0.0|\n",
      "| 7.938687942969916|    0.0|\n",
      "| 6.299323466928851|    0.0|\n",
      "|  7.16811037397764|    0.0|\n",
      "| 6.406995913205646|    0.0|\n",
      "|7.5923550770931625|    0.0|\n",
      "| 9.224165482931967|    0.0|\n",
      "| 48.82703158890588|    0.0|\n",
      "| 8.184943906863463|    0.0|\n",
      "|  4.81675815285105|    0.0|\n",
      "| 7.417314140998465|    0.0|\n",
      "|  5.01449999168616|    0.0|\n",
      "| 4.894479532568757|    0.0|\n",
      "| 9.801897997313683|    0.0|\n",
      "| 4.991812691841854|    0.0|\n",
      "| 5.784231376331861|    0.0|\n",
      "| 7.793788787286428|    0.0|\n",
      "| 7.492145101337208|    0.0|\n",
      "| 6.476184075585179|    0.0|\n",
      "| 8.322843023650924|    0.0|\n",
      "| 9.203488531085192|    0.0|\n",
      "| 33.63931723470933|    0.0|\n",
      "|10.148866640975502|    0.0|\n",
      "| 34.65955114543513|    0.0|\n",
      "|6.6483544198114695|    0.0|\n",
      "| 9.435951550949586|    0.0|\n",
      "| 5.950609136090382|    0.0|\n",
      "| 5.607991856415708|    0.0|\n",
      "|6.7994651653531335|    0.0|\n",
      "|7.3166838508090075|    0.0|\n",
      "| 7.056916254935025|    0.0|\n",
      "| 6.484183325314059|    0.0|\n",
      "|  4.16900043289817|    0.0|\n",
      "|21.262528192639106|    0.0|\n",
      "| 5.392680012988059|    0.0|\n",
      "| 4.414946662021242|    0.0|\n",
      "|  5.21513277377918|    0.0|\n",
      "| 6.147620399985272|    0.0|\n",
      "| 54.88840668938041|    0.0|\n",
      "| 6.706622750977385|    0.0|\n",
      "| 6.024118603590197|    0.0|\n",
      "|4.4082117311876505|    0.0|\n",
      "| 5.962487441789712|    0.0|\n",
      "|11.852054137769064|    0.0|\n",
      "| 4.817064950994865|    0.0|\n",
      "| 4.715093579880534|    0.0|\n",
      "| 4.715093579880534|    0.0|\n",
      "|4.6162337754529945|    0.0|\n",
      "|10.766002517456243|    0.0|\n",
      "| 5.964732016100035|    0.0|\n",
      "| 5.427001077141129|    0.0|\n",
      "| 6.380451448458294|    0.0|\n",
      "| 7.599940050963023|    0.0|\n",
      "| 5.130673314340475|    0.0|\n",
      "| 5.585627568956542|    0.0|\n",
      "| 7.452989512021652|    0.0|\n",
      "| 3.986706924986538|    0.0|\n",
      "| 4.499397273583487|    0.0|\n",
      "| 6.776490575681185|    0.0|\n",
      "|  9.59503136023649|    0.0|\n",
      "| 9.894074631740935|    0.0|\n",
      "| 9.983886761470353|    0.0|\n",
      "| 4.662421852008435|    0.0|\n",
      "|  5.31699712619113|    0.0|\n",
      "| 5.056687120173272|    0.0|\n",
      "| 4.266827586546017|    0.0|\n",
      "| 8.147926500484509|    0.0|\n",
      "| 8.333036366089106|    0.0|\n",
      "|  9.72092067264689|    0.0|\n",
      "| 10.96069519931948|    0.0|\n",
      "| 6.044349008449907|    0.0|\n",
      "| 4.170019320626036|    0.0|\n",
      "|29.863430936248896|    0.0|\n",
      "|10.033200819388457|    0.0|\n",
      "| 8.279503292044222|    0.0|\n",
      "| 4.288057253991715|    0.0|\n",
      "| 6.313695493274178|    0.0|\n",
      "| 9.776349868872446|    0.0|\n",
      "| 17.23355129719456|    0.0|\n",
      "| 9.102823066826952|    0.0|\n",
      "|16.176113687808932|    0.0|\n",
      "| 18.27249872640293|    0.0|\n",
      "|4.8373963106121805|    0.0|\n",
      "| 4.910985738227436|    0.0|\n",
      "| 6.258972609943012|    0.0|\n",
      "|10.647016228417574|    0.0|\n",
      "| 16.54356534817483|    0.0|\n",
      "|6.6560522914942615|    0.0|\n",
      "|  5.27234557805256|    0.0|\n",
      "| 4.902589652829569|    0.0|\n",
      "|  4.70251146646208|    0.0|\n",
      "|4.9629526177977805|    0.0|\n",
      "| 6.150876990869333|    0.0|\n",
      "| 6.150876990869333|    0.0|\n",
      "| 7.945475290103067|    0.0|\n",
      "| 4.284292547397826|    0.0|\n",
      "| 16.91410169083383|    0.0|\n",
      "| 5.125450566423341|    0.0|\n",
      "| 5.031409827135668|    0.0|\n",
      "| 5.288634465690864|    0.0|\n",
      "| 4.973609527813151|    0.0|\n",
      "|6.7622541314558715|    0.0|\n",
      "| 5.428733433345736|    0.0|\n",
      "|4.8803179590038015|    0.0|\n",
      "| 4.558709817418325|    0.0|\n",
      "| 6.421793965750684|    0.0|\n",
      "|4.7214309334904145|    0.0|\n",
      "| 4.599652551643698|    0.0|\n",
      "| 4.670414912232345|    0.0|\n",
      "|5.0258405647472815|    0.0|\n",
      "| 4.756983788572621|    0.0|\n",
      "| 4.954661972652004|    0.0|\n",
      "|5.8010883731021545|    0.0|\n",
      "| 4.309856534405742|    0.0|\n",
      "| 5.075868451948323|    0.0|\n",
      "|  9.34337667686803|    0.0|\n",
      "| 5.884436906258176|    0.0|\n",
      "| 5.646092809650543|    0.0|\n",
      "| 5.503146890146571|    0.0|\n",
      "| 4.313047222694198|    0.0|\n",
      "| 9.408682722644748|    0.0|\n",
      "| 5.667651360582684|    0.0|\n",
      "| 6.913228647191661|    0.0|\n",
      "|  4.56853300474976|    0.0|\n",
      "| 4.315525544262686|    0.0|\n",
      "|4.9252336151457925|    0.0|\n",
      "| 6.860234586088853|    0.0|\n",
      "|3.8599975025966256|    0.0|\n",
      "| 6.339923733596293|    0.0|\n",
      "| 7.734437948200807|    0.0|\n",
      "| 6.572144044034058|    0.0|\n",
      "|  18.3871438354529|   0.36|\n",
      "|14.242219528608153|   0.43|\n",
      "| 9.123392005294441|   0.47|\n",
      "| 3.967611168390385|   0.55|\n",
      "| 19.30294123691458|   0.61|\n",
      "| 9.822494074450562|   0.71|\n",
      "| 4.129543322048716|   0.77|\n",
      "| 38.63086351491229|    0.9|\n",
      "| 5.329344249626385|   0.95|\n",
      "|13.819382651661615|   0.96|\n",
      "| 4.536529023166491|   1.07|\n",
      "| 9.955442811168087|   1.12|\n",
      "| 6.411151298198824|   1.19|\n",
      "|16.979198314519792|   1.36|\n",
      "|10.289726840222599|   1.43|\n",
      "| 5.778720171257156|   1.46|\n",
      "|18.948512760425544|   1.46|\n",
      "|  4.48125388648689|   1.56|\n",
      "|15.145175263072174|   1.61|\n",
      "| 4.597300967385734|   1.63|\n",
      "| 4.210988958107232|   1.64|\n",
      "| 8.322843023650924|   1.69|\n",
      "| 6.009489257406929|   1.75|\n",
      "| 5.885434743493676|    1.9|\n",
      "| 6.919303344885224|   1.94|\n",
      "|34.149445446419065|   1.95|\n",
      "| 7.560262903625524|   2.01|\n",
      "| 5.898055180778597|   2.14|\n",
      "| 4.145425100047391|   2.29|\n",
      "| 5.864673453983106|   2.51|\n",
      "| 9.926639224545017|   2.53|\n",
      "| 8.124986157722688|   2.55|\n",
      "|  9.30266630429546|   2.57|\n",
      "| 8.327991704216586|   2.69|\n",
      "| 7.747444275831974|   2.74|\n",
      "| 8.418204108242916|   3.07|\n",
      "| 3.976125482729521|    3.5|\n",
      "| 4.454789988204868|   4.53|\n",
      "|  6.05948012472561|   4.61|\n",
      "| 5.029508929748377|   4.69|\n",
      "| 5.468297264629407|   4.88|\n",
      "|15.607686504594588|   5.23|\n",
      "|10.739350151485766|   5.33|\n",
      "| 8.498754107918808|   5.44|\n",
      "| 4.760234446099383|   6.38|\n",
      "|   9.6810960612048|   6.83|\n",
      "| 19.10250719701201|   6.96|\n",
      "| 9.256856073286105|   7.04|\n",
      "| 8.897739077845122|   7.19|\n",
      "|11.834069007646615|    7.3|\n",
      "|  4.88181704847583|    7.4|\n",
      "| 6.301868550092598|   8.24|\n",
      "| 5.799190935384042|   8.31|\n",
      "|6.1010900613179055|   8.68|\n",
      "| 5.520800030941611|   8.71|\n",
      "|12.327825797015725|   9.41|\n",
      "| 5.520800030941611|  10.01|\n",
      "| 5.912378675252288|  10.02|\n",
      "|  6.05948012472561|  10.93|\n",
      "|12.430182778461706|  11.06|\n",
      "| 8.192200936219654|  11.24|\n",
      "|10.054314237393323|  11.32|\n",
      "| 14.63314397361204|  11.53|\n",
      "| 5.208565177603947|   12.1|\n",
      "|6.2865942389188785|  13.05|\n",
      "| 8.437086639616803|   13.7|\n",
      "|5.5550411637574095|  13.99|\n",
      "|10.532420845334284|  14.57|\n",
      "| 7.765968998146332|  15.45|\n",
      "|10.730478591518649|   17.2|\n",
      "|11.382592190304754|  19.23|\n",
      "|11.321166835660978|  23.41|\n",
      "| 8.224832938160922|  24.23|\n",
      "| 8.952680341137626|   26.0|\n",
      "| 7.292611544321521|  26.13|\n",
      "| 8.144131963426846|  27.35|\n",
      "| 5.131029216161046|  28.66|\n",
      "| 5.131029216161046|  28.66|\n",
      "| 8.303893896739885|  29.48|\n",
      "| 7.675071185564806|  30.32|\n",
      "|13.118189776925378|  31.72|\n",
      "| 5.702524586779557|  31.86|\n",
      "|11.304411932334597|  32.07|\n",
      "| 8.008143266738767|  35.88|\n",
      "| 7.215081123316521|  36.85|\n",
      "|32.856015456605654|  37.02|\n",
      "| 8.296887815903318|  37.71|\n",
      "|10.914031120253593|  48.55|\n",
      "|11.181487019024098|  49.37|\n",
      "|14.455889111095216|   58.3|\n",
      "| 40.32238071861099|   64.1|\n",
      "|17.929850402067448|   71.3|\n",
      "|  35.8305647051417|  88.49|\n",
      "|41.904625447104124|  95.18|\n",
      "|11.255776191034336| 103.39|\n",
      "| 44.78708901977558| 105.66|\n",
      "| 95.42893289317772| 154.88|\n",
      "|50.063495454060785| 196.48|\n",
      "| 69.66129587543327| 200.94|\n",
      "| 60.64751586556863| 212.88|\n",
      "| 533.5365370002171|1090.84|\n",
      "| 5.952552630502862|    0.0|\n",
      "| 5.266741036379363|    0.0|\n",
      "| 4.754759746302257|    0.0|\n",
      "| 5.215220142648033|  10.13|\n",
      "|  8.31478647977247|    0.0|\n",
      "| 6.038360385686058|   2.87|\n",
      "| 7.892116313420381|   0.76|\n",
      "|5.4288270011626185|   0.09|\n",
      "| 4.350215355384683|   0.75|\n",
      "|  8.13364307123254|    0.0|\n",
      "| 5.198189030235958|   2.47|\n",
      "|  35.0299364802046|   0.68|\n",
      "| 6.148157318369798|   0.24|\n",
      "|  5.49611009963829|   0.21|\n",
      "| 5.265911634433052|   1.52|\n",
      "|6.9533376145608425|  10.34|\n",
      "| 9.561761781584307|    0.0|\n",
      "| 9.434708536210188|   8.02|\n",
      "| 5.023629658147504|   0.68|\n",
      "| 5.601569368867652|    0.0|\n",
      "| 5.826733728089908|   1.38|\n",
      "| 6.641609376224915|   8.85|\n",
      "| 5.178196717477244|    3.3|\n",
      "| 4.755508867393765|   4.25|\n",
      "| 6.942723446733521|   1.56|\n",
      "|  7.14799218732535|   6.54|\n",
      "| 5.519668924322094|   0.79|\n",
      "|  5.70362553687459|   0.17|\n",
      "|10.462683303547182|    0.0|\n",
      "|  4.98724814454921|    0.0|\n",
      "| 5.085140424756087|    4.4|\n",
      "|11.327373385712015|   0.52|\n",
      "|16.336006372223267|   9.27|\n",
      "| 5.409924570468601|   3.09|\n",
      "| 7.626347591140708|   8.98|\n",
      "|  8.60699883459266|  11.19|\n",
      "| 6.485715365682828|   5.38|\n",
      "|10.449438751308806|  17.85|\n",
      "| 9.702427803933613|  10.73|\n",
      "|10.449438751308806|  22.03|\n",
      "|10.449438751308806|   9.77|\n",
      "| 6.485715365682828|   9.27|\n",
      "|11.172215718175789|  24.77|\n",
      "| 5.447614806495881|    0.0|\n",
      "| 4.254720895292147|    1.1|\n",
      "| 7.939693116848662|  24.24|\n",
      "|12.871665868696484|    0.0|\n",
      "| 17.76371684504361|    0.0|\n",
      "| 8.074953153564289|    0.0|\n",
      "| 5.385309407251937|    0.0|\n",
      "|6.1060307286372275|    0.0|\n",
      "|  5.68594825970535|    0.0|\n",
      "|13.476231688303626|    8.0|\n",
      "| 5.598936365210994|   2.64|\n",
      "|50.057914481957475|  86.45|\n",
      "|11.290372500677504|   6.57|\n",
      "| 7.230662747220057|    0.0|\n",
      "| 5.007352347544571|    0.9|\n",
      "| 7.297503026163315|    0.0|\n",
      "|15.331182232711813|    0.0|\n",
      "| 5.491103495100493|    0.0|\n",
      "+------------------+-------+\n",
      "only showing top 300 rows\n",
      "\n"
     ]
    }
   ],
   "source": [
    "predictions = cross_validated_model.transform(spark_df)\n",
    "predictions.select('prediction', 'area').show(300)"
   ]
  },
  {
   "cell_type": "markdown",
   "metadata": {},
   "source": [
    "Now let's go ahead and take a look at the feature importances of our random forest model. In order to do this, we need to unroll our pipeline to access the random forest model. Let's start by first checking out the `.bestModel` attribute of our `cross_validated_model`. "
   ]
  },
  {
   "cell_type": "code",
   "execution_count": 74,
   "metadata": {
    "slideshow": {
     "slide_type": "slide"
    }
   },
   "outputs": [
    {
     "data": {
      "text/plain": [
       "pyspark.ml.pipeline.PipelineModel"
      ]
     },
     "execution_count": 74,
     "metadata": {},
     "output_type": "execute_result"
    }
   ],
   "source": [
    "type(cross_validated_model.bestModel)"
   ]
  },
  {
   "cell_type": "markdown",
   "metadata": {},
   "source": [
    "`ml` is treating the entire pipeline as the best performing model, so we need to go deeper into the pipeline to access the random forest model within it. Previously, we put the random forest model as the final \"stage\" in the stages variable list. Let's look at the `.stages` attribute of the `.bestModel`."
   ]
  },
  {
   "cell_type": "code",
   "execution_count": 75,
   "metadata": {},
   "outputs": [
    {
     "data": {
      "text/plain": [
       "[StringIndexer_51c3e33022eb,\n",
       " OneHotEncoderEstimator_89d82973e660,\n",
       " VectorAssembler_e733005e5671,\n",
       " RandomForestRegressionModel (uid=RandomForestRegressor_8028ab5af607) with 100 trees]"
      ]
     },
     "execution_count": 75,
     "metadata": {},
     "output_type": "execute_result"
    }
   ],
   "source": [
    "cross_validated_model.bestModel.stages"
   ]
  },
  {
   "cell_type": "markdown",
   "metadata": {},
   "source": [
    "Perfect! There's the RandomForestRegressionModel, represented by the last item in the stages list. Now, we should be able to access all the attributes of the random forest regressor."
   ]
  },
  {
   "cell_type": "code",
   "execution_count": 76,
   "metadata": {},
   "outputs": [],
   "source": [
    "optimal_rf_model = cross_validated_model.bestModel.stages[3]"
   ]
  },
  {
   "cell_type": "code",
   "execution_count": 77,
   "metadata": {},
   "outputs": [
    {
     "data": {
      "text/plain": [
       "SparseVector(22, {0: 0.1014, 1: 0.0651, 2: 0.1497, 3: 0.1523, 4: 0.0762, 5: 0.0741, 6: 0.1139, 7: 0.0866, 8: 0.1444, 9: 0.0, 10: 0.0155, 11: 0.0087, 12: 0.0008, 13: 0.0094, 14: 0.0001, 15: 0.0004, 16: 0.0001, 17: 0.0006, 18: 0.0001, 20: 0.0004})"
      ]
     },
     "execution_count": 77,
     "metadata": {},
     "output_type": "execute_result"
    }
   ],
   "source": [
    "optimal_rf_model.featureImportances"
   ]
  },
  {
   "cell_type": "code",
   "execution_count": 78,
   "metadata": {},
   "outputs": [
    {
     "data": {
      "text/plain": [
       "100"
      ]
     },
     "execution_count": 78,
     "metadata": {},
     "output_type": "execute_result"
    }
   ],
   "source": [
    "optimal_rf_model.getNumTrees"
   ]
  },
  {
   "cell_type": "markdown",
   "metadata": {},
   "source": [
    "## Summary\n",
    "\n",
    "In this lesson, you learned about PySpark's DataFrames, machine learning models, and pipelines. With the use of a pipeline, you can train a huge number of models simultaneously, saving you a substantial amount of time and effort. Up next, you will have a chance to build a PySpark machine learning pipeline of your own with a classification problem!"
   ]
  }
 ],
 "metadata": {
  "kernelspec": {
   "display_name": "Python 3",
   "language": "python",
   "name": "python3"
  },
  "language_info": {
   "codemirror_mode": {
    "name": "ipython",
    "version": 3
   },
   "file_extension": ".py",
   "mimetype": "text/x-python",
   "name": "python",
   "nbconvert_exporter": "python",
   "pygments_lexer": "ipython3",
   "version": "3.6.9"
  }
 },
 "nbformat": 4,
 "nbformat_minor": 4
}
